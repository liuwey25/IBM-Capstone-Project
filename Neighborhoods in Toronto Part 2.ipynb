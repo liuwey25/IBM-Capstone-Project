{
    "cells": [
        {
            "cell_type": "markdown",
            "metadata": {
                "collapsed": true
            },
            "source": "##  Segmenting and Clustering Neighborhoods in Toronto Part 1"
        },
        {
            "cell_type": "markdown",
            "metadata": {},
            "source": "- Use the Notebook to build the code to scrape the following Wikipedia page.\n- The dataframe will consist of three columns: PostalCode, Borough, and Neighborhood\n- Only process the cells that have an assigned borough. Ignore cells with a borough that is Not assigned.\n- More than one neighborhood can exist in one postal code area. For example, in the table on the Wikipedia page, you will notice that M5A is listed twice and has two neighborhoods: Harbourfront and Regent Park. These two rows will be combined into one row with the neighborhoods separated with a comma as shown in row 11 in the above table.\n- If a cell has a borough but a Not assigned neighborhood, then the neighborhood will be the same as the borough.\n- Clean your Notebook and add Markdown cells to explain your work and any assumptions you are making.\n- In the last cell of your notebook, use the .shape method to print the number of rows of your dataframe."
        },
        {
            "cell_type": "code",
            "execution_count": 1,
            "metadata": {},
            "outputs": [],
            "source": "#Download all the dependencies that we will need.\nimport pandas as pd # library for data analysis\nfrom bs4 import BeautifulSoup # library for extract data from HTML or XML\nimport requests # library to handle requests"
        },
        {
            "cell_type": "code",
            "execution_count": 2,
            "metadata": {},
            "outputs": [],
            "source": "# Connecting to the data source with Request\nsource = requests.get('https://en.wikipedia.org/wiki/List_of_postal_codes_of_Canada:_M').text"
        },
        {
            "cell_type": "code",
            "execution_count": 3,
            "metadata": {},
            "outputs": [
                {
                    "name": "stdout",
                    "output_type": "stream",
                    "text": "<table class=\"wikitable sortable\">\n <tbody>\n  <tr>\n   <th>\n    Postal Code\n   </th>\n   <th>\n    Borough\n   </th>\n   <th>\n    Neighborhood\n   </th>\n  </tr>\n  <tr>\n   <td>\n    M1A\n   </td>\n   <td>\n    Not assigned\n   </td>\n   <td>\n    Not assigned\n   </td>\n  </tr>\n  <tr>\n   <td>\n    M2A\n   </td>\n   <td>\n    Not assigned\n   </td>\n   <td>\n    Not assigned\n   </td>\n  </tr>\n  <tr>\n   <td>\n    M3A\n   </td>\n   <td>\n    North York\n   </td>\n   <td>\n    Parkwoods\n   </td>\n  </tr>\n  <tr>\n   <td>\n    M4A\n   </td>\n   <td>\n    North York\n   </td>\n   <td>\n    Victoria Village\n   </td>\n  </tr>\n  <tr>\n   <td>\n    M5A\n   </td>\n   <td>\n    Downtown Toronto\n   </td>\n   <td>\n    Regent Park, Harbourfront\n   </td>\n  </tr>\n  <tr>\n   <td>\n    M6A\n   </td>\n   <td>\n    North York\n   </td>\n   <td>\n    Lawrence Manor, Lawrence Heights\n   </td>\n  </tr>\n  <tr>\n   <td>\n    M7A\n   </td>\n   <td>\n    Downtown Toronto\n   </td>\n   <td>\n    Queen's Park, Ontario Provincial Government\n   </td>\n  </tr>\n  <tr>\n   <td>\n    M8A\n   </td>\n   <td>\n    Not assigned\n   </td>\n   <td>\n    Not assigned\n   </td>\n  </tr>\n  <tr>\n   <td>\n    M9A\n   </td>\n   <td>\n    Etobicoke\n   </td>\n   <td>\n    Islington Avenue, Humber Valley Village\n   </td>\n  </tr>\n  <tr>\n   <td>\n    M1B\n   </td>\n   <td>\n    Scarborough\n   </td>\n   <td>\n    Malvern, Rouge\n   </td>\n  </tr>\n  <tr>\n   <td>\n    M2B\n   </td>\n   <td>\n    Not assigned\n   </td>\n   <td>\n    Not assigned\n   </td>\n  </tr>\n  <tr>\n   <td>\n    M3B\n   </td>\n   <td>\n    North York\n   </td>\n   <td>\n    Don Mills\n   </td>\n  </tr>\n  <tr>\n   <td>\n    M4B\n   </td>\n   <td>\n    East York\n   </td>\n   <td>\n    Parkview Hill, Woodbine Gardens\n   </td>\n  </tr>\n  <tr>\n   <td>\n    M5B\n   </td>\n   <td>\n    Downtown Toronto\n   </td>\n   <td>\n    Garden District, Ryerson\n   </td>\n  </tr>\n  <tr>\n   <td>\n    M6B\n   </td>\n   <td>\n    North York\n   </td>\n   <td>\n    Glencairn\n   </td>\n  </tr>\n  <tr>\n   <td>\n    M7B\n   </td>\n   <td>\n    Not assigned\n   </td>\n   <td>\n    Not assigned\n   </td>\n  </tr>\n  <tr>\n   <td>\n    M8B\n   </td>\n   <td>\n    Not assigned\n   </td>\n   <td>\n    Not assigned\n   </td>\n  </tr>\n  <tr>\n   <td>\n    M9B\n   </td>\n   <td>\n    Etobicoke\n   </td>\n   <td>\n    West Deane Park, Princess Gardens, Martin Grove, Islington, Cloverdale\n   </td>\n  </tr>\n  <tr>\n   <td>\n    M1C\n   </td>\n   <td>\n    Scarborough\n   </td>\n   <td>\n    Rouge Hill, Port Union, Highland Creek\n   </td>\n  </tr>\n  <tr>\n   <td>\n    M2C\n   </td>\n   <td>\n    Not assigned\n   </td>\n   <td>\n    Not assigned\n   </td>\n  </tr>\n  <tr>\n   <td>\n    M3C\n   </td>\n   <td>\n    North York\n   </td>\n   <td>\n    Don Mills\n   </td>\n  </tr>\n  <tr>\n   <td>\n    M4C\n   </td>\n   <td>\n    East York\n   </td>\n   <td>\n    Woodbine Heights\n   </td>\n  </tr>\n  <tr>\n   <td>\n    M5C\n   </td>\n   <td>\n    Downtown Toronto\n   </td>\n   <td>\n    St. James Town\n   </td>\n  </tr>\n  <tr>\n   <td>\n    M6C\n   </td>\n   <td>\n    York\n   </td>\n   <td>\n    Humewood-Cedarvale\n   </td>\n  </tr>\n  <tr>\n   <td>\n    M7C\n   </td>\n   <td>\n    Not assigned\n   </td>\n   <td>\n    Not assigned\n   </td>\n  </tr>\n  <tr>\n   <td>\n    M8C\n   </td>\n   <td>\n    Not assigned\n   </td>\n   <td>\n    Not assigned\n   </td>\n  </tr>\n  <tr>\n   <td>\n    M9C\n   </td>\n   <td>\n    Etobicoke\n   </td>\n   <td>\n    Eringate, Bloordale Gardens, Old Burnhamthorpe, Markland Wood\n   </td>\n  </tr>\n  <tr>\n   <td>\n    M1E\n   </td>\n   <td>\n    Scarborough\n   </td>\n   <td>\n    Guildwood, Morningside, West Hill\n   </td>\n  </tr>\n  <tr>\n   <td>\n    M2E\n   </td>\n   <td>\n    Not assigned\n   </td>\n   <td>\n    Not assigned\n   </td>\n  </tr>\n  <tr>\n   <td>\n    M3E\n   </td>\n   <td>\n    Not assigned\n   </td>\n   <td>\n    Not assigned\n   </td>\n  </tr>\n  <tr>\n   <td>\n    M4E\n   </td>\n   <td>\n    East Toronto\n   </td>\n   <td>\n    The Beaches\n   </td>\n  </tr>\n  <tr>\n   <td>\n    M5E\n   </td>\n   <td>\n    Downtown Toronto\n   </td>\n   <td>\n    Berczy Park\n   </td>\n  </tr>\n  <tr>\n   <td>\n    M6E\n   </td>\n   <td>\n    York\n   </td>\n   <td>\n    Caledonia-Fairbanks\n   </td>\n  </tr>\n  <tr>\n   <td>\n    M7E\n   </td>\n   <td>\n    Not assigned\n   </td>\n   <td>\n    Not assigned\n   </td>\n  </tr>\n  <tr>\n   <td>\n    M8E\n   </td>\n   <td>\n    Not assigned\n   </td>\n   <td>\n    Not assigned\n   </td>\n  </tr>\n  <tr>\n   <td>\n    M9E\n   </td>\n   <td>\n    Not assigned\n   </td>\n   <td>\n    Not assigned\n   </td>\n  </tr>\n  <tr>\n   <td>\n    M1G\n   </td>\n   <td>\n    Scarborough\n   </td>\n   <td>\n    Woburn\n   </td>\n  </tr>\n  <tr>\n   <td>\n    M2G\n   </td>\n   <td>\n    Not assigned\n   </td>\n   <td>\n    Not assigned\n   </td>\n  </tr>\n  <tr>\n   <td>\n    M3G\n   </td>\n   <td>\n    Not assigned\n   </td>\n   <td>\n    Not assigned\n   </td>\n  </tr>\n  <tr>\n   <td>\n    M4G\n   </td>\n   <td>\n    East York\n   </td>\n   <td>\n    Leaside\n   </td>\n  </tr>\n  <tr>\n   <td>\n    M5G\n   </td>\n   <td>\n    Downtown Toronto\n   </td>\n   <td>\n    Central Bay Street\n   </td>\n  </tr>\n  <tr>\n   <td>\n    M6G\n   </td>\n   <td>\n    Downtown Toronto\n   </td>\n   <td>\n    Christie\n   </td>\n  </tr>\n  <tr>\n   <td>\n    M7G\n   </td>\n   <td>\n    Not assigned\n   </td>\n   <td>\n    Not assigned\n   </td>\n  </tr>\n  <tr>\n   <td>\n    M8G\n   </td>\n   <td>\n    Not assigned\n   </td>\n   <td>\n    Not assigned\n   </td>\n  </tr>\n  <tr>\n   <td>\n    M9G\n   </td>\n   <td>\n    Not assigned\n   </td>\n   <td>\n    Not assigned\n   </td>\n  </tr>\n  <tr>\n   <td>\n    M1H\n   </td>\n   <td>\n    Scarborough\n   </td>\n   <td>\n    Cedarbrae\n   </td>\n  </tr>\n  <tr>\n   <td>\n    M2H\n   </td>\n   <td>\n    North York\n   </td>\n   <td>\n    Hillcrest Village\n   </td>\n  </tr>\n  <tr>\n   <td>\n    M3H\n   </td>\n   <td>\n    North York\n   </td>\n   <td>\n    Bathurst Manor, Wilson Heights, Downsview North\n   </td>\n  </tr>\n  <tr>\n   <td>\n    M4H\n   </td>\n   <td>\n    East York\n   </td>\n   <td>\n    Thorncliffe Park\n   </td>\n  </tr>\n  <tr>\n   <td>\n    M5H\n   </td>\n   <td>\n    Downtown Toronto\n   </td>\n   <td>\n    Richmond, Adelaide, King\n   </td>\n  </tr>\n  <tr>\n   <td>\n    M6H\n   </td>\n   <td>\n    West Toronto\n   </td>\n   <td>\n    Dufferin, Dovercourt Village\n   </td>\n  </tr>\n  <tr>\n   <td>\n    M7H\n   </td>\n   <td>\n    Not assigned\n   </td>\n   <td>\n    Not assigned\n   </td>\n  </tr>\n  <tr>\n   <td>\n    M8H\n   </td>\n   <td>\n    Not assigned\n   </td>\n   <td>\n    Not assigned\n   </td>\n  </tr>\n  <tr>\n   <td>\n    M9H\n   </td>\n   <td>\n    Not assigned\n   </td>\n   <td>\n    Not assigned\n   </td>\n  </tr>\n  <tr>\n   <td>\n    M1J\n   </td>\n   <td>\n    Scarborough\n   </td>\n   <td>\n    Scarborough Village\n   </td>\n  </tr>\n  <tr>\n   <td>\n    M2J\n   </td>\n   <td>\n    North York\n   </td>\n   <td>\n    Fairview, Henry Farm, Oriole\n   </td>\n  </tr>\n  <tr>\n   <td>\n    M3J\n   </td>\n   <td>\n    North York\n   </td>\n   <td>\n    Northwood Park, York University\n   </td>\n  </tr>\n  <tr>\n   <td>\n    M4J\n   </td>\n   <td>\n    East York\n   </td>\n   <td>\n    East Toronto, Broadview North (Old East York)\n   </td>\n  </tr>\n  <tr>\n   <td>\n    M5J\n   </td>\n   <td>\n    Downtown Toronto\n   </td>\n   <td>\n    Harbourfront East, Union Station, Toronto Islands\n   </td>\n  </tr>\n  <tr>\n   <td>\n    M6J\n   </td>\n   <td>\n    West Toronto\n   </td>\n   <td>\n    Little Portugal, Trinity\n   </td>\n  </tr>\n  <tr>\n   <td>\n    M7J\n   </td>\n   <td>\n    Not assigned\n   </td>\n   <td>\n    Not assigned\n   </td>\n  </tr>\n  <tr>\n   <td>\n    M8J\n   </td>\n   <td>\n    Not assigned\n   </td>\n   <td>\n    Not assigned\n   </td>\n  </tr>\n  <tr>\n   <td>\n    M9J\n   </td>\n   <td>\n    Not assigned\n   </td>\n   <td>\n    Not assigned\n   </td>\n  </tr>\n  <tr>\n   <td>\n    M1K\n   </td>\n   <td>\n    Scarborough\n   </td>\n   <td>\n    Kennedy Park, Ionview, East Birchmount Park\n   </td>\n  </tr>\n  <tr>\n   <td>\n    M2K\n   </td>\n   <td>\n    North York\n   </td>\n   <td>\n    Bayview Village\n   </td>\n  </tr>\n  <tr>\n   <td>\n    M3K\n   </td>\n   <td>\n    North York\n   </td>\n   <td>\n    Downsview\n   </td>\n  </tr>\n  <tr>\n   <td>\n    M4K\n   </td>\n   <td>\n    East Toronto\n   </td>\n   <td>\n    The Danforth West, Riverdale\n   </td>\n  </tr>\n  <tr>\n   <td>\n    M5K\n   </td>\n   <td>\n    Downtown Toronto\n   </td>\n   <td>\n    Toronto Dominion Centre, Design Exchange\n   </td>\n  </tr>\n  <tr>\n   <td>\n    M6K\n   </td>\n   <td>\n    West Toronto\n   </td>\n   <td>\n    Brockton, Parkdale Village, Exhibition Place\n   </td>\n  </tr>\n  <tr>\n   <td>\n    M7K\n   </td>\n   <td>\n    Not assigned\n   </td>\n   <td>\n    Not assigned\n   </td>\n  </tr>\n  <tr>\n   <td>\n    M8K\n   </td>\n   <td>\n    Not assigned\n   </td>\n   <td>\n    Not assigned\n   </td>\n  </tr>\n  <tr>\n   <td>\n    M9K\n   </td>\n   <td>\n    Not assigned\n   </td>\n   <td>\n    Not assigned\n   </td>\n  </tr>\n  <tr>\n   <td>\n    M1L\n   </td>\n   <td>\n    Scarborough\n   </td>\n   <td>\n    Golden Mile, Clairlea, Oakridge\n   </td>\n  </tr>\n  <tr>\n   <td>\n    M2L\n   </td>\n   <td>\n    North York\n   </td>\n   <td>\n    York Mills, Silver Hills\n   </td>\n  </tr>\n  <tr>\n   <td>\n    M3L\n   </td>\n   <td>\n    North York\n   </td>\n   <td>\n    Downsview\n   </td>\n  </tr>\n  <tr>\n   <td>\n    M4L\n   </td>\n   <td>\n    East Toronto\n   </td>\n   <td>\n    India Bazaar, The Beaches West\n   </td>\n  </tr>\n  <tr>\n   <td>\n    M5L\n   </td>\n   <td>\n    Downtown Toronto\n   </td>\n   <td>\n    Commerce Court, Victoria Hotel\n   </td>\n  </tr>\n  <tr>\n   <td>\n    M6L\n   </td>\n   <td>\n    North York\n   </td>\n   <td>\n    North Park, Maple Leaf Park, Upwood Park\n   </td>\n  </tr>\n  <tr>\n   <td>\n    M7L\n   </td>\n   <td>\n    Not assigned\n   </td>\n   <td>\n    Not assigned\n   </td>\n  </tr>\n  <tr>\n   <td>\n    M8L\n   </td>\n   <td>\n    Not assigned\n   </td>\n   <td>\n    Not assigned\n   </td>\n  </tr>\n  <tr>\n   <td>\n    M9L\n   </td>\n   <td>\n    North York\n   </td>\n   <td>\n    Humber Summit\n   </td>\n  </tr>\n  <tr>\n   <td>\n    M1M\n   </td>\n   <td>\n    Scarborough\n   </td>\n   <td>\n    Cliffside, Cliffcrest, Scarborough Village West\n   </td>\n  </tr>\n  <tr>\n   <td>\n    M2M\n   </td>\n   <td>\n    North York\n   </td>\n   <td>\n    Willowdale, Newtonbrook\n   </td>\n  </tr>\n  <tr>\n   <td>\n    M3M\n   </td>\n   <td>\n    North York\n   </td>\n   <td>\n    Downsview\n   </td>\n  </tr>\n  <tr>\n   <td>\n    M4M\n   </td>\n   <td>\n    East Toronto\n   </td>\n   <td>\n    Studio District\n   </td>\n  </tr>\n  <tr>\n   <td>\n    M5M\n   </td>\n   <td>\n    North York\n   </td>\n   <td>\n    Bedford Park, Lawrence Manor East\n   </td>\n  </tr>\n  <tr>\n   <td>\n    M6M\n   </td>\n   <td>\n    York\n   </td>\n   <td>\n    Del Ray, Mount Dennis, Keelsdale and Silverthorn\n   </td>\n  </tr>\n  <tr>\n   <td>\n    M7M\n   </td>\n   <td>\n    Not assigned\n   </td>\n   <td>\n    Not assigned\n   </td>\n  </tr>\n  <tr>\n   <td>\n    M8M\n   </td>\n   <td>\n    Not assigned\n   </td>\n   <td>\n    Not assigned\n   </td>\n  </tr>\n  <tr>\n   <td>\n    M9M\n   </td>\n   <td>\n    North York\n   </td>\n   <td>\n    Humberlea, Emery\n   </td>\n  </tr>\n  <tr>\n   <td>\n    M1N\n   </td>\n   <td>\n    Scarborough\n   </td>\n   <td>\n    Birch Cliff, Cliffside West\n   </td>\n  </tr>\n  <tr>\n   <td>\n    M2N\n   </td>\n   <td>\n    North York\n   </td>\n   <td>\n    Willowdale, Willowdale East\n   </td>\n  </tr>\n  <tr>\n   <td>\n    M3N\n   </td>\n   <td>\n    North York\n   </td>\n   <td>\n    Downsview\n   </td>\n  </tr>\n  <tr>\n   <td>\n    M4N\n   </td>\n   <td>\n    Central Toronto\n   </td>\n   <td>\n    Lawrence Park\n   </td>\n  </tr>\n  <tr>\n   <td>\n    M5N\n   </td>\n   <td>\n    Central Toronto\n   </td>\n   <td>\n    Roselawn\n   </td>\n  </tr>\n  <tr>\n   <td>\n    M6N\n   </td>\n   <td>\n    York\n   </td>\n   <td>\n    Runnymede, The Junction North\n   </td>\n  </tr>\n  <tr>\n   <td>\n    M7N\n   </td>\n   <td>\n    Not assigned\n   </td>\n   <td>\n    Not assigned\n   </td>\n  </tr>\n  <tr>\n   <td>\n    M8N\n   </td>\n   <td>\n    Not assigned\n   </td>\n   <td>\n    Not assigned\n   </td>\n  </tr>\n  <tr>\n   <td>\n    M9N\n   </td>\n   <td>\n    York\n   </td>\n   <td>\n    Weston\n   </td>\n  </tr>\n  <tr>\n   <td>\n    M1P\n   </td>\n   <td>\n    Scarborough\n   </td>\n   <td>\n    Dorset Park, Wexford Heights, Scarborough Town Centre\n   </td>\n  </tr>\n  <tr>\n   <td>\n    M2P\n   </td>\n   <td>\n    North York\n   </td>\n   <td>\n    York Mills West\n   </td>\n  </tr>\n  <tr>\n   <td>\n    M3P\n   </td>\n   <td>\n    Not assigned\n   </td>\n   <td>\n    Not assigned\n   </td>\n  </tr>\n  <tr>\n   <td>\n    M4P\n   </td>\n   <td>\n    Central Toronto\n   </td>\n   <td>\n    Davisville North\n   </td>\n  </tr>\n  <tr>\n   <td>\n    M5P\n   </td>\n   <td>\n    Central Toronto\n   </td>\n   <td>\n    Forest Hill North &amp; West, Forest Hill Road Park\n   </td>\n  </tr>\n  <tr>\n   <td>\n    M6P\n   </td>\n   <td>\n    West Toronto\n   </td>\n   <td>\n    High Park, The Junction South\n   </td>\n  </tr>\n  <tr>\n   <td>\n    M7P\n   </td>\n   <td>\n    Not assigned\n   </td>\n   <td>\n    Not assigned\n   </td>\n  </tr>\n  <tr>\n   <td>\n    M8P\n   </td>\n   <td>\n    Not assigned\n   </td>\n   <td>\n    Not assigned\n   </td>\n  </tr>\n  <tr>\n   <td>\n    M9P\n   </td>\n   <td>\n    Etobicoke\n   </td>\n   <td>\n    Westmount\n   </td>\n  </tr>\n  <tr>\n   <td>\n    M1R\n   </td>\n   <td>\n    Scarborough\n   </td>\n   <td>\n    Wexford, Maryvale\n   </td>\n  </tr>\n  <tr>\n   <td>\n    M2R\n   </td>\n   <td>\n    North York\n   </td>\n   <td>\n    Willowdale, Willowdale West\n   </td>\n  </tr>\n  <tr>\n   <td>\n    M3R\n   </td>\n   <td>\n    Not assigned\n   </td>\n   <td>\n    Not assigned\n   </td>\n  </tr>\n  <tr>\n   <td>\n    M4R\n   </td>\n   <td>\n    Central Toronto\n   </td>\n   <td>\n    North Toronto West,  Lawrence Park\n   </td>\n  </tr>\n  <tr>\n   <td>\n    M5R\n   </td>\n   <td>\n    Central Toronto\n   </td>\n   <td>\n    The Annex, North Midtown, Yorkville\n   </td>\n  </tr>\n  <tr>\n   <td>\n    M6R\n   </td>\n   <td>\n    West Toronto\n   </td>\n   <td>\n    Parkdale, Roncesvalles\n   </td>\n  </tr>\n  <tr>\n   <td>\n    M7R\n   </td>\n   <td>\n    Mississauga\n   </td>\n   <td>\n    Canada Post Gateway Processing Centre\n   </td>\n  </tr>\n  <tr>\n   <td>\n    M8R\n   </td>\n   <td>\n    Not assigned\n   </td>\n   <td>\n    Not assigned\n   </td>\n  </tr>\n  <tr>\n   <td>\n    M9R\n   </td>\n   <td>\n    Etobicoke\n   </td>\n   <td>\n    Kingsview Village, St. Phillips, Martin Grove Gardens, Richview Gardens\n   </td>\n  </tr>\n  <tr>\n   <td>\n    M1S\n   </td>\n   <td>\n    Scarborough\n   </td>\n   <td>\n    Agincourt\n   </td>\n  </tr>\n  <tr>\n   <td>\n    M2S\n   </td>\n   <td>\n    Not assigned\n   </td>\n   <td>\n    Not assigned\n   </td>\n  </tr>\n  <tr>\n   <td>\n    M3S\n   </td>\n   <td>\n    Not assigned\n   </td>\n   <td>\n    Not assigned\n   </td>\n  </tr>\n  <tr>\n   <td>\n    M4S\n   </td>\n   <td>\n    Central Toronto\n   </td>\n   <td>\n    Davisville\n   </td>\n  </tr>\n  <tr>\n   <td>\n    M5S\n   </td>\n   <td>\n    Downtown Toronto\n   </td>\n   <td>\n    University of Toronto, Harbord\n   </td>\n  </tr>\n  <tr>\n   <td>\n    M6S\n   </td>\n   <td>\n    West Toronto\n   </td>\n   <td>\n    Runnymede, Swansea\n   </td>\n  </tr>\n  <tr>\n   <td>\n    M7S\n   </td>\n   <td>\n    Not assigned\n   </td>\n   <td>\n    Not assigned\n   </td>\n  </tr>\n  <tr>\n   <td>\n    M8S\n   </td>\n   <td>\n    Not assigned\n   </td>\n   <td>\n    Not assigned\n   </td>\n  </tr>\n  <tr>\n   <td>\n    M9S\n   </td>\n   <td>\n    Not assigned\n   </td>\n   <td>\n    Not assigned\n   </td>\n  </tr>\n  <tr>\n   <td>\n    M1T\n   </td>\n   <td>\n    Scarborough\n   </td>\n   <td>\n    Clarks Corners, Tam O'Shanter, Sullivan\n   </td>\n  </tr>\n  <tr>\n   <td>\n    M2T\n   </td>\n   <td>\n    Not assigned\n   </td>\n   <td>\n    Not assigned\n   </td>\n  </tr>\n  <tr>\n   <td>\n    M3T\n   </td>\n   <td>\n    Not assigned\n   </td>\n   <td>\n    Not assigned\n   </td>\n  </tr>\n  <tr>\n   <td>\n    M4T\n   </td>\n   <td>\n    Central Toronto\n   </td>\n   <td>\n    Moore Park, Summerhill East\n   </td>\n  </tr>\n  <tr>\n   <td>\n    M5T\n   </td>\n   <td>\n    Downtown Toronto\n   </td>\n   <td>\n    Kensington Market, Chinatown, Grange Park\n   </td>\n  </tr>\n  <tr>\n   <td>\n    M6T\n   </td>\n   <td>\n    Not assigned\n   </td>\n   <td>\n    Not assigned\n   </td>\n  </tr>\n  <tr>\n   <td>\n    M7T\n   </td>\n   <td>\n    Not assigned\n   </td>\n   <td>\n    Not assigned\n   </td>\n  </tr>\n  <tr>\n   <td>\n    M8T\n   </td>\n   <td>\n    Not assigned\n   </td>\n   <td>\n    Not assigned\n   </td>\n  </tr>\n  <tr>\n   <td>\n    M9T\n   </td>\n   <td>\n    Not assigned\n   </td>\n   <td>\n    Not assigned\n   </td>\n  </tr>\n  <tr>\n   <td>\n    M1V\n   </td>\n   <td>\n    Scarborough\n   </td>\n   <td>\n    Milliken, Agincourt North, Steeles East, L'Amoreaux East\n   </td>\n  </tr>\n  <tr>\n   <td>\n    M2V\n   </td>\n   <td>\n    Not assigned\n   </td>\n   <td>\n    Not assigned\n   </td>\n  </tr>\n  <tr>\n   <td>\n    M3V\n   </td>\n   <td>\n    Not assigned\n   </td>\n   <td>\n    Not assigned\n   </td>\n  </tr>\n  <tr>\n   <td>\n    M4V\n   </td>\n   <td>\n    Central Toronto\n   </td>\n   <td>\n    Summerhill West, Rathnelly, South Hill, Forest Hill SE, Deer Park\n   </td>\n  </tr>\n  <tr>\n   <td>\n    M5V\n   </td>\n   <td>\n    Downtown Toronto\n   </td>\n   <td>\n    CN Tower, King and Spadina, Railway Lands, Harbourfront West, Bathurst Quay, South Niagara, Island airport\n   </td>\n  </tr>\n  <tr>\n   <td>\n    M6V\n   </td>\n   <td>\n    Not assigned\n   </td>\n   <td>\n    Not assigned\n   </td>\n  </tr>\n  <tr>\n   <td>\n    M7V\n   </td>\n   <td>\n    Not assigned\n   </td>\n   <td>\n    Not assigned\n   </td>\n  </tr>\n  <tr>\n   <td>\n    M8V\n   </td>\n   <td>\n    Etobicoke\n   </td>\n   <td>\n    New Toronto, Mimico South, Humber Bay Shores\n   </td>\n  </tr>\n  <tr>\n   <td>\n    M9V\n   </td>\n   <td>\n    Etobicoke\n   </td>\n   <td>\n    South Steeles, Silverstone, Humbergate, Jamestown, Mount Olive, Beaumond Heights, Thistletown, Albion Gardens\n   </td>\n  </tr>\n  <tr>\n   <td>\n    M1W\n   </td>\n   <td>\n    Scarborough\n   </td>\n   <td>\n    Steeles West, L'Amoreaux West\n   </td>\n  </tr>\n  <tr>\n   <td>\n    M2W\n   </td>\n   <td>\n    Not assigned\n   </td>\n   <td>\n    Not assigned\n   </td>\n  </tr>\n  <tr>\n   <td>\n    M3W\n   </td>\n   <td>\n    Not assigned\n   </td>\n   <td>\n    Not assigned\n   </td>\n  </tr>\n  <tr>\n   <td>\n    M4W\n   </td>\n   <td>\n    Downtown Toronto\n   </td>\n   <td>\n    Rosedale\n   </td>\n  </tr>\n  <tr>\n   <td>\n    M5W\n   </td>\n   <td>\n    Downtown Toronto\n   </td>\n   <td>\n    Stn A PO Boxes\n   </td>\n  </tr>\n  <tr>\n   <td>\n    M6W\n   </td>\n   <td>\n    Not assigned\n   </td>\n   <td>\n    Not assigned\n   </td>\n  </tr>\n  <tr>\n   <td>\n    M7W\n   </td>\n   <td>\n    Not assigned\n   </td>\n   <td>\n    Not assigned\n   </td>\n  </tr>\n  <tr>\n   <td>\n    M8W\n   </td>\n   <td>\n    Etobicoke\n   </td>\n   <td>\n    Alderwood, Long Branch\n   </td>\n  </tr>\n  <tr>\n   <td>\n    M9W\n   </td>\n   <td>\n    Etobicoke\n   </td>\n   <td>\n    Northwest, West Humber - Clairville\n   </td>\n  </tr>\n  <tr>\n   <td>\n    M1X\n   </td>\n   <td>\n    Scarborough\n   </td>\n   <td>\n    Upper Rouge\n   </td>\n  </tr>\n  <tr>\n   <td>\n    M2X\n   </td>\n   <td>\n    Not assigned\n   </td>\n   <td>\n    Not assigned\n   </td>\n  </tr>\n  <tr>\n   <td>\n    M3X\n   </td>\n   <td>\n    Not assigned\n   </td>\n   <td>\n    Not assigned\n   </td>\n  </tr>\n  <tr>\n   <td>\n    M4X\n   </td>\n   <td>\n    Downtown Toronto\n   </td>\n   <td>\n    St. James Town, Cabbagetown\n   </td>\n  </tr>\n  <tr>\n   <td>\n    M5X\n   </td>\n   <td>\n    Downtown Toronto\n   </td>\n   <td>\n    First Canadian Place, Underground city\n   </td>\n  </tr>\n  <tr>\n   <td>\n    M6X\n   </td>\n   <td>\n    Not assigned\n   </td>\n   <td>\n    Not assigned\n   </td>\n  </tr>\n  <tr>\n   <td>\n    M7X\n   </td>\n   <td>\n    Not assigned\n   </td>\n   <td>\n    Not assigned\n   </td>\n  </tr>\n  <tr>\n   <td>\n    M8X\n   </td>\n   <td>\n    Etobicoke\n   </td>\n   <td>\n    The Kingsway, Montgomery Road, Old Mill North\n   </td>\n  </tr>\n  <tr>\n   <td>\n    M9X\n   </td>\n   <td>\n    Not assigned\n   </td>\n   <td>\n    Not assigned\n   </td>\n  </tr>\n  <tr>\n   <td>\n    M1Y\n   </td>\n   <td>\n    Not assigned\n   </td>\n   <td>\n    Not assigned\n   </td>\n  </tr>\n  <tr>\n   <td>\n    M2Y\n   </td>\n   <td>\n    Not assigned\n   </td>\n   <td>\n    Not assigned\n   </td>\n  </tr>\n  <tr>\n   <td>\n    M3Y\n   </td>\n   <td>\n    Not assigned\n   </td>\n   <td>\n    Not assigned\n   </td>\n  </tr>\n  <tr>\n   <td>\n    M4Y\n   </td>\n   <td>\n    Downtown Toronto\n   </td>\n   <td>\n    Church and Wellesley\n   </td>\n  </tr>\n  <tr>\n   <td>\n    M5Y\n   </td>\n   <td>\n    Not assigned\n   </td>\n   <td>\n    Not assigned\n   </td>\n  </tr>\n  <tr>\n   <td>\n    M6Y\n   </td>\n   <td>\n    Not assigned\n   </td>\n   <td>\n    Not assigned\n   </td>\n  </tr>\n  <tr>\n   <td>\n    M7Y\n   </td>\n   <td>\n    East Toronto\n   </td>\n   <td>\n    Business reply mail Processing Centre, South Central Letter Processing Plant Toronto\n   </td>\n  </tr>\n  <tr>\n   <td>\n    M8Y\n   </td>\n   <td>\n    Etobicoke\n   </td>\n   <td>\n    Old Mill South, King's Mill Park, Sunnylea, Humber Bay, Mimico NE, The Queensway East, Royal York South East, Kingsway Park South East\n   </td>\n  </tr>\n  <tr>\n   <td>\n    M9Y\n   </td>\n   <td>\n    Not assigned\n   </td>\n   <td>\n    Not assigned\n   </td>\n  </tr>\n  <tr>\n   <td>\n    M1Z\n   </td>\n   <td>\n    Not assigned\n   </td>\n   <td>\n    Not assigned\n   </td>\n  </tr>\n  <tr>\n   <td>\n    M2Z\n   </td>\n   <td>\n    Not assigned\n   </td>\n   <td>\n    Not assigned\n   </td>\n  </tr>\n  <tr>\n   <td>\n    M3Z\n   </td>\n   <td>\n    Not assigned\n   </td>\n   <td>\n    Not assigned\n   </td>\n  </tr>\n  <tr>\n   <td>\n    M4Z\n   </td>\n   <td>\n    Not assigned\n   </td>\n   <td>\n    Not assigned\n   </td>\n  </tr>\n  <tr>\n   <td>\n    M5Z\n   </td>\n   <td>\n    Not assigned\n   </td>\n   <td>\n    Not assigned\n   </td>\n  </tr>\n  <tr>\n   <td>\n    M6Z\n   </td>\n   <td>\n    Not assigned\n   </td>\n   <td>\n    Not assigned\n   </td>\n  </tr>\n  <tr>\n   <td>\n    M7Z\n   </td>\n   <td>\n    Not assigned\n   </td>\n   <td>\n    Not assigned\n   </td>\n  </tr>\n  <tr>\n   <td>\n    M8Z\n   </td>\n   <td>\n    Etobicoke\n   </td>\n   <td>\n    Mimico NW, The Queensway West, South of Bloor, Kingsway Park South West, Royal York South West\n   </td>\n  </tr>\n  <tr>\n   <td>\n    M9Z\n   </td>\n   <td>\n    Not assigned\n   </td>\n   <td>\n    Not assigned\n   </td>\n  </tr>\n </tbody>\n</table>\n\n"
                }
            ],
            "source": "# Finding the table with BeautifulSoup\nsoup = BeautifulSoup(source, 'xml')\nlist=soup.find('table')\nprint(list.prettify())"
        },
        {
            "cell_type": "code",
            "execution_count": 4,
            "metadata": {},
            "outputs": [
                {
                    "data": {
                        "text/html": "<div>\n<style scoped>\n    .dataframe tbody tr th:only-of-type {\n        vertical-align: middle;\n    }\n\n    .dataframe tbody tr th {\n        vertical-align: top;\n    }\n\n    .dataframe thead th {\n        text-align: right;\n    }\n</style>\n<table border=\"1\" class=\"dataframe\">\n  <thead>\n    <tr style=\"text-align: right;\">\n      <th></th>\n      <th>Postalcode</th>\n      <th>Borough</th>\n      <th>Neighborhood</th>\n    </tr>\n  </thead>\n  <tbody>\n  </tbody>\n</table>\n</div>",
                        "text/plain": "Empty DataFrame\nColumns: [Postalcode, Borough, Neighborhood]\nIndex: []"
                    },
                    "execution_count": 4,
                    "metadata": {},
                    "output_type": "execute_result"
                }
            ],
            "source": "# Creating new dataframe with three columns: PostalCode, Borough, and Neighborhood\ncolumn_names = ['Postalcode','Borough','Neighborhood']\ndf = pd.DataFrame(columns = column_names)\ndf"
        },
        {
            "cell_type": "code",
            "execution_count": 5,
            "metadata": {},
            "outputs": [],
            "source": "# Transforming rows for postcode,borough and neighborhood to df \n\nfor tr_cell in list.find_all('tr'):\n    row_data=[]\n    for td_cell in tr_cell.find_all('td'):\n        row_data.append(td_cell.text.strip())\n    if len(row_data)==3:\n        df.loc[len(df)] = row_data"
        },
        {
            "cell_type": "code",
            "execution_count": 6,
            "metadata": {
                "scrolled": false
            },
            "outputs": [
                {
                    "data": {
                        "text/html": "<div>\n<style scoped>\n    .dataframe tbody tr th:only-of-type {\n        vertical-align: middle;\n    }\n\n    .dataframe tbody tr th {\n        vertical-align: top;\n    }\n\n    .dataframe thead th {\n        text-align: right;\n    }\n</style>\n<table border=\"1\" class=\"dataframe\">\n  <thead>\n    <tr style=\"text-align: right;\">\n      <th></th>\n      <th>Postalcode</th>\n      <th>Borough</th>\n      <th>Neighborhood</th>\n    </tr>\n  </thead>\n  <tbody>\n    <tr>\n      <th>0</th>\n      <td>M1A</td>\n      <td>Not assigned</td>\n      <td>Not assigned</td>\n    </tr>\n    <tr>\n      <th>1</th>\n      <td>M2A</td>\n      <td>Not assigned</td>\n      <td>Not assigned</td>\n    </tr>\n    <tr>\n      <th>2</th>\n      <td>M3A</td>\n      <td>North York</td>\n      <td>Parkwoods</td>\n    </tr>\n    <tr>\n      <th>3</th>\n      <td>M4A</td>\n      <td>North York</td>\n      <td>Victoria Village</td>\n    </tr>\n    <tr>\n      <th>4</th>\n      <td>M5A</td>\n      <td>Downtown Toronto</td>\n      <td>Regent Park, Harbourfront</td>\n    </tr>\n  </tbody>\n</table>\n</div>",
                        "text/plain": "  Postalcode           Borough               Neighborhood\n0        M1A      Not assigned               Not assigned\n1        M2A      Not assigned               Not assigned\n2        M3A        North York                  Parkwoods\n3        M4A        North York           Victoria Village\n4        M5A  Downtown Toronto  Regent Park, Harbourfront"
                    },
                    "execution_count": 6,
                    "metadata": {},
                    "output_type": "execute_result"
                }
            ],
            "source": "df.head()"
        },
        {
            "cell_type": "code",
            "execution_count": 7,
            "metadata": {},
            "outputs": [
                {
                    "data": {
                        "text/plain": "(180, 3)"
                    },
                    "execution_count": 7,
                    "metadata": {},
                    "output_type": "execute_result"
                }
            ],
            "source": "df.shape"
        },
        {
            "cell_type": "code",
            "execution_count": 8,
            "metadata": {},
            "outputs": [],
            "source": "# Ignore cells with a borough that is 'Not assigned'.\n\ndf=df[df['Borough']!='Not assigned']"
        },
        {
            "cell_type": "code",
            "execution_count": 9,
            "metadata": {
                "scrolled": true
            },
            "outputs": [
                {
                    "data": {
                        "text/html": "<div>\n<style scoped>\n    .dataframe tbody tr th:only-of-type {\n        vertical-align: middle;\n    }\n\n    .dataframe tbody tr th {\n        vertical-align: top;\n    }\n\n    .dataframe thead th {\n        text-align: right;\n    }\n</style>\n<table border=\"1\" class=\"dataframe\">\n  <thead>\n    <tr style=\"text-align: right;\">\n      <th></th>\n      <th>Postalcode</th>\n      <th>Borough</th>\n      <th>Neighborhood</th>\n    </tr>\n  </thead>\n  <tbody>\n    <tr>\n      <th>2</th>\n      <td>M3A</td>\n      <td>North York</td>\n      <td>Parkwoods</td>\n    </tr>\n    <tr>\n      <th>3</th>\n      <td>M4A</td>\n      <td>North York</td>\n      <td>Victoria Village</td>\n    </tr>\n    <tr>\n      <th>4</th>\n      <td>M5A</td>\n      <td>Downtown Toronto</td>\n      <td>Regent Park, Harbourfront</td>\n    </tr>\n    <tr>\n      <th>5</th>\n      <td>M6A</td>\n      <td>North York</td>\n      <td>Lawrence Manor, Lawrence Heights</td>\n    </tr>\n    <tr>\n      <th>6</th>\n      <td>M7A</td>\n      <td>Downtown Toronto</td>\n      <td>Queen's Park, Ontario Provincial Government</td>\n    </tr>\n  </tbody>\n</table>\n</div>",
                        "text/plain": "  Postalcode           Borough                                 Neighborhood\n2        M3A        North York                                    Parkwoods\n3        M4A        North York                             Victoria Village\n4        M5A  Downtown Toronto                    Regent Park, Harbourfront\n5        M6A        North York             Lawrence Manor, Lawrence Heights\n6        M7A  Downtown Toronto  Queen's Park, Ontario Provincial Government"
                    },
                    "execution_count": 9,
                    "metadata": {},
                    "output_type": "execute_result"
                }
            ],
            "source": "df.head()"
        },
        {
            "cell_type": "code",
            "execution_count": 10,
            "metadata": {},
            "outputs": [
                {
                    "data": {
                        "text/plain": "(103, 3)"
                    },
                    "execution_count": 10,
                    "metadata": {},
                    "output_type": "execute_result"
                }
            ],
            "source": "df.shape"
        },
        {
            "cell_type": "code",
            "execution_count": 11,
            "metadata": {},
            "outputs": [],
            "source": "# create Neighborhood Joined\n\ntemp_df=df.groupby('Postalcode')['Neighborhood'].apply(lambda x: \"%s\" % ', '.join(x))\ntemp_df=temp_df.reset_index(drop=False)\ntemp_df.rename(columns={'Neighborhood':'Neighborhood_joined'},inplace=True)\n"
        },
        {
            "cell_type": "code",
            "execution_count": 12,
            "metadata": {},
            "outputs": [],
            "source": "# Replace Neighborhood with the new Neighborhood_joined\n\ndf_merge = pd.merge(df, temp_df, on='Postalcode')\ndf_merge.drop(['Neighborhood'],axis=1,inplace=True)\ndf_merge.drop_duplicates(inplace=True)\ndf_merge.rename(columns={'Neighborhood_joined':'Neighborhood'},inplace=True)\n\n# Please note: wikipedia has already merged Neighborhood. This step is no longer necessary in the pre-processing. This is added for grading process.\n# Notice df.shape and df_merge.shape did not change"
        },
        {
            "cell_type": "code",
            "execution_count": 13,
            "metadata": {},
            "outputs": [
                {
                    "data": {
                        "text/html": "<div>\n<style scoped>\n    .dataframe tbody tr th:only-of-type {\n        vertical-align: middle;\n    }\n\n    .dataframe tbody tr th {\n        vertical-align: top;\n    }\n\n    .dataframe thead th {\n        text-align: right;\n    }\n</style>\n<table border=\"1\" class=\"dataframe\">\n  <thead>\n    <tr style=\"text-align: right;\">\n      <th></th>\n      <th>Postalcode</th>\n      <th>Borough</th>\n      <th>Neighborhood</th>\n    </tr>\n  </thead>\n  <tbody>\n    <tr>\n      <th>0</th>\n      <td>M3A</td>\n      <td>North York</td>\n      <td>Parkwoods</td>\n    </tr>\n    <tr>\n      <th>1</th>\n      <td>M4A</td>\n      <td>North York</td>\n      <td>Victoria Village</td>\n    </tr>\n    <tr>\n      <th>2</th>\n      <td>M5A</td>\n      <td>Downtown Toronto</td>\n      <td>Regent Park, Harbourfront</td>\n    </tr>\n    <tr>\n      <th>3</th>\n      <td>M6A</td>\n      <td>North York</td>\n      <td>Lawrence Manor, Lawrence Heights</td>\n    </tr>\n    <tr>\n      <th>4</th>\n      <td>M7A</td>\n      <td>Downtown Toronto</td>\n      <td>Queen's Park, Ontario Provincial Government</td>\n    </tr>\n  </tbody>\n</table>\n</div>",
                        "text/plain": "  Postalcode           Borough                                 Neighborhood\n0        M3A        North York                                    Parkwoods\n1        M4A        North York                             Victoria Village\n2        M5A  Downtown Toronto                    Regent Park, Harbourfront\n3        M6A        North York             Lawrence Manor, Lawrence Heights\n4        M7A  Downtown Toronto  Queen's Park, Ontario Provincial Government"
                    },
                    "execution_count": 13,
                    "metadata": {},
                    "output_type": "execute_result"
                }
            ],
            "source": "df_merge.head ()"
        },
        {
            "cell_type": "code",
            "execution_count": 14,
            "metadata": {},
            "outputs": [
                {
                    "data": {
                        "text/plain": "(103, 3)"
                    },
                    "execution_count": 14,
                    "metadata": {},
                    "output_type": "execute_result"
                }
            ],
            "source": "df_merge.shape"
        },
        {
            "cell_type": "markdown",
            "metadata": {},
            "source": "## Segmenting and Clustering Neighborhoods in Toronto Part 2"
        },
        {
            "cell_type": "markdown",
            "metadata": {},
            "source": "- Need to get the latitude and the longitude coordinates of each neighborhood.\n- Use the Geocoder package or the csv file to create geographical coordinates of a given postal code."
        },
        {
            "cell_type": "code",
            "execution_count": 23,
            "metadata": {},
            "outputs": [],
            "source": "geo_df=pd.read_csv('http://cocl.us/Geospatial_data') # Read a csv file into Df"
        },
        {
            "cell_type": "code",
            "execution_count": 25,
            "metadata": {},
            "outputs": [
                {
                    "data": {
                        "text/html": "<div>\n<style scoped>\n    .dataframe tbody tr th:only-of-type {\n        vertical-align: middle;\n    }\n\n    .dataframe tbody tr th {\n        vertical-align: top;\n    }\n\n    .dataframe thead th {\n        text-align: right;\n    }\n</style>\n<table border=\"1\" class=\"dataframe\">\n  <thead>\n    <tr style=\"text-align: right;\">\n      <th></th>\n      <th>Postal Code</th>\n      <th>Latitude</th>\n      <th>Longitude</th>\n    </tr>\n  </thead>\n  <tbody>\n    <tr>\n      <th>0</th>\n      <td>M1B</td>\n      <td>43.806686</td>\n      <td>-79.194353</td>\n    </tr>\n    <tr>\n      <th>1</th>\n      <td>M1C</td>\n      <td>43.784535</td>\n      <td>-79.160497</td>\n    </tr>\n    <tr>\n      <th>2</th>\n      <td>M1E</td>\n      <td>43.763573</td>\n      <td>-79.188711</td>\n    </tr>\n    <tr>\n      <th>3</th>\n      <td>M1G</td>\n      <td>43.770992</td>\n      <td>-79.216917</td>\n    </tr>\n    <tr>\n      <th>4</th>\n      <td>M1H</td>\n      <td>43.773136</td>\n      <td>-79.239476</td>\n    </tr>\n  </tbody>\n</table>\n</div>",
                        "text/plain": "  Postal Code   Latitude  Longitude\n0         M1B  43.806686 -79.194353\n1         M1C  43.784535 -79.160497\n2         M1E  43.763573 -79.188711\n3         M1G  43.770992 -79.216917\n4         M1H  43.773136 -79.239476"
                    },
                    "execution_count": 25,
                    "metadata": {},
                    "output_type": "execute_result"
                }
            ],
            "source": "geo_df.head()"
        },
        {
            "cell_type": "code",
            "execution_count": 38,
            "metadata": {},
            "outputs": [],
            "source": "geo_df.rename(columns={'Postal Code':'Postalcode'},inplace=True) # rename Postal Code to Postalcode\ngeo_merged = pd.merge(geo_df, df, on='Postalcode') # merge csv with df in part 1 using Postalcode"
        },
        {
            "cell_type": "code",
            "execution_count": 44,
            "metadata": {},
            "outputs": [],
            "source": "neighborhoods=geo_merged[['Postalcode','Borough','Neighborhood','Latitude','Longitude']] #creating a new string"
        },
        {
            "cell_type": "code",
            "execution_count": 45,
            "metadata": {},
            "outputs": [
                {
                    "data": {
                        "text/html": "<div>\n<style scoped>\n    .dataframe tbody tr th:only-of-type {\n        vertical-align: middle;\n    }\n\n    .dataframe tbody tr th {\n        vertical-align: top;\n    }\n\n    .dataframe thead th {\n        text-align: right;\n    }\n</style>\n<table border=\"1\" class=\"dataframe\">\n  <thead>\n    <tr style=\"text-align: right;\">\n      <th></th>\n      <th>Postalcode</th>\n      <th>Borough</th>\n      <th>Neighborhood</th>\n      <th>Latitude</th>\n      <th>Longitude</th>\n    </tr>\n  </thead>\n  <tbody>\n    <tr>\n      <th>0</th>\n      <td>M1B</td>\n      <td>Scarborough</td>\n      <td>Malvern, Rouge</td>\n      <td>43.806686</td>\n      <td>-79.194353</td>\n    </tr>\n    <tr>\n      <th>1</th>\n      <td>M1C</td>\n      <td>Scarborough</td>\n      <td>Rouge Hill, Port Union, Highland Creek</td>\n      <td>43.784535</td>\n      <td>-79.160497</td>\n    </tr>\n    <tr>\n      <th>2</th>\n      <td>M1E</td>\n      <td>Scarborough</td>\n      <td>Guildwood, Morningside, West Hill</td>\n      <td>43.763573</td>\n      <td>-79.188711</td>\n    </tr>\n    <tr>\n      <th>3</th>\n      <td>M1G</td>\n      <td>Scarborough</td>\n      <td>Woburn</td>\n      <td>43.770992</td>\n      <td>-79.216917</td>\n    </tr>\n    <tr>\n      <th>4</th>\n      <td>M1H</td>\n      <td>Scarborough</td>\n      <td>Cedarbrae</td>\n      <td>43.773136</td>\n      <td>-79.239476</td>\n    </tr>\n  </tbody>\n</table>\n</div>",
                        "text/plain": "  Postalcode      Borough                            Neighborhood   Latitude  \\\n0        M1B  Scarborough                          Malvern, Rouge  43.806686   \n1        M1C  Scarborough  Rouge Hill, Port Union, Highland Creek  43.784535   \n2        M1E  Scarborough       Guildwood, Morningside, West Hill  43.763573   \n3        M1G  Scarborough                                  Woburn  43.770992   \n4        M1H  Scarborough                               Cedarbrae  43.773136   \n\n   Longitude  \n0 -79.194353  \n1 -79.160497  \n2 -79.188711  \n3 -79.216917  \n4 -79.239476  "
                    },
                    "execution_count": 45,
                    "metadata": {},
                    "output_type": "execute_result"
                }
            ],
            "source": "neighborhoods.head()"
        },
        {
            "cell_type": "code",
            "execution_count": 46,
            "metadata": {},
            "outputs": [
                {
                    "data": {
                        "text/plain": "(103, 5)"
                    },
                    "execution_count": 46,
                    "metadata": {},
                    "output_type": "execute_result"
                }
            ],
            "source": "neighborhoods.shape"
        }
    ],
    "metadata": {
        "kernelspec": {
            "display_name": "Python 3.6",
            "language": "python",
            "name": "python3"
        },
        "language_info": {
            "codemirror_mode": {
                "name": "ipython",
                "version": 3
            },
            "file_extension": ".py",
            "mimetype": "text/x-python",
            "name": "python",
            "nbconvert_exporter": "python",
            "pygments_lexer": "ipython3",
            "version": "3.6.9"
        }
    },
    "nbformat": 4,
    "nbformat_minor": 1
}