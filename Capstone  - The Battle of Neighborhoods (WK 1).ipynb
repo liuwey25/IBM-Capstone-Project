{
    "cells": [
        {
            "cell_type": "markdown",
            "metadata": {
                "collapsed": true
            },
            "source": "<h1 align=center><font size = 5>The Battle of Neighborhoods in New York City</font></h1>\n\n<h1 align=center><font size = 2>Applied Data Science Capstone by IBM/Coursera</font></h1>"
        },
        {
            "cell_type": "markdown",
            "metadata": {},
            "source": "# **Objective**"
        },
        {
            "cell_type": "markdown",
            "metadata": {},
            "source": "**You will have the opportunity to be as creative as you want and come up with an idea to leverage the Foursquare location data to explore or compare neighborhoods or cities of your choice or to come up with a problem that you can use the Foursquare location data to solve.**"
        },
        {
            "cell_type": "markdown",
            "metadata": {},
            "source": "# **Introduction: Background**"
        },
        {
            "cell_type": "markdown",
            "metadata": {},
            "source": "**Among all the widely consumed beverages in the world, coffee and tea is consider the top selection. In Canada, according to Coffee Association of Canada the coffee industry is a $6.2 billion industries with over 5,000 independent cafe and coffee shops.\nBeside independent coffee shops, you have major chain coffee shop like Starbucks, Country Styles, Second Cup and the biggest of them all Tim Horton's with over 3,800 locations.**\n"
        },
        {
            "cell_type": "markdown",
            "metadata": {},
            "source": "# **Problem**"
        },
        {
            "cell_type": "markdown",
            "metadata": {},
            "source": "**Through online research of Coffee and Tea in Canada I discovered my favorite coffee chain shop is not in Canada. My favorit chain is Coffee Beans and Tea Leafs. Coffee Beans and Tea Leaf started out in my home state of California. It has expanded into 32 different countries but not in Canada. The scenario that I have come up with is \"What if Coffee Beans and Tea Leaf decided to expand to Vancouver where will the hotspot be?\"**"
        },
        {
            "cell_type": "markdown",
            "metadata": {},
            "source": "# **Description of the Data**\n\n**I will be using postal codes provide from wikipedia as neighborhood or the hotspot to recommend Coffee Beans and Tea Leafs for there intial location.\nI will also be using foursquare data with geolocater and cluster to determine where customer will likely frequent for coffee.**\n\n**1. Link: https://en.wikipedia.org/wiki/List_of_postal_codes_of_Canada:_M\"**\n\n**Using Postal Codes to define hotspot in Vancouver**\n\n**2. Foursquare.com - category - coffee shop**\n\n**Using foursquare data to fine the hotspot for coffee shop with clusters in Vancouver**"
        },
        {
            "cell_type": "code",
            "execution_count": null,
            "metadata": {},
            "outputs": [],
            "source": ""
        }
    ],
    "metadata": {
        "kernelspec": {
            "display_name": "Python 3.6",
            "language": "python",
            "name": "python3"
        },
        "language_info": {
            "codemirror_mode": {
                "name": "ipython",
                "version": 3
            },
            "file_extension": ".py",
            "mimetype": "text/x-python",
            "name": "python",
            "nbconvert_exporter": "python",
            "pygments_lexer": "ipython3",
            "version": "3.6.9"
        }
    },
    "nbformat": 4,
    "nbformat_minor": 1
}