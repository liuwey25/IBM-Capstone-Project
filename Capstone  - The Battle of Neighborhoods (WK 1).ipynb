{
    "cells": [
        {
            "metadata": {
                "collapsed": true
            },
            "cell_type": "markdown",
            "source": "<h1 align=center><font size = 5>The Battle of Neighborhoods in New York City</font></h1>\n\n<h1 align=center><font size = 2>Applied Data Science Capstone by IBM/Coursera</font></h1>"
        },
        {
            "metadata": {},
            "cell_type": "markdown",
            "source": "<h1 align=left><font size = 3>Objective</font></h1>"
        },
        {
            "metadata": {},
            "cell_type": "markdown",
            "source": "**You will have the opportunity to be as creative as you want and come up with an idea to leverage the Foursquare location data to explore or compare neighborhoods or cities of your choice or to come up with a problem that you can use the Foursquare location data to solve.**"
        },
        {
            "metadata": {},
            "cell_type": "markdown",
            "source": "\n\n<h1 align=left><font size = 3>Introduction</font></h1>"
        },
        {
            "metadata": {},
            "cell_type": "markdown",
            "source": "##### <h2 align=left><font size = 3>Background</font></h2>"
        },
        {
            "metadata": {},
            "cell_type": "markdown",
            "source": "**Among all the widely consumed beverages in the world, coffee and tea is consider the top selection. In Canada, according to Coffee Association of Canada the coffee industry is a $6.2 billion industries with over 5,000 independent cafe and coffee shops.\nBeside independent coffee shops, you have major chain coffee shop like Starbucks, Country Styles, Second Cup and the biggest of them all Tim Horton's with over 3,800 locations.**\n"
        },
        {
            "metadata": {},
            "cell_type": "markdown",
            "source": "<h1 align=left><font size = 3>Problem</font></h1>"
        },
        {
            "metadata": {},
            "cell_type": "markdown",
            "source": "**Through online research of Coffee and Tea in Canada I discovered my favorite coffee chain shop is not in Canada. My favorit chain is Coffee Beans and Tea Leafs. Coffee Beans and Tea Leaf started out in my home state of California. It has expanded into 32 different countries but not in Canada. The scenario that I have come up with is \"What if Coffee Beans and Tea Leaf decided to expand to Vancouver where will the hotspot be?\"**"
        },
        {
            "metadata": {},
            "cell_type": "markdown",
            "source": "<h1 align=left><font size = 3>Description of the Data</font></h1>\n\n**I will be using postal codes provide from wikipedia as neighborhood or the hotspot to recommend Coffee Beans and Tea Leafs for there intial location.\nI will also be using foursquare data with geolocater and cluster to determine where customer will likely frequent for coffee.**\n\n**1. Link: https://en.wikipedia.org/wiki/List_of_postal_codes_of_Canada:_M\"**\n\n**Using Postal Codes to define hotspot in Vancouver**\n\n**2. Foursquare.com - category - coffee shop**\n\n**Using foursquare data to fine the hotspot for coffee shop with clusters in Vancouver**"
        },
        {
            "metadata": {},
            "cell_type": "code",
            "source": "",
            "execution_count": null,
            "outputs": []
        }
    ],
    "metadata": {
        "kernelspec": {
            "name": "python3",
            "display_name": "Python 3.6",
            "language": "python"
        },
        "language_info": {
            "name": "python",
            "version": "3.6.9",
            "mimetype": "text/x-python",
            "codemirror_mode": {
                "name": "ipython",
                "version": 3
            },
            "pygments_lexer": "ipython3",
            "nbconvert_exporter": "python",
            "file_extension": ".py"
        }
    },
    "nbformat": 4,
    "nbformat_minor": 1
}